{
 "cells": [
  {
   "cell_type": "markdown",
   "metadata": {},
   "source": [
    "# Assignment 7: Bagging and Boosting\n",
    "\n",
    "Only use the already imported library `numpy`, `matplotlib` and the Python standard library. For the evaluation you may also use scikit-learn (`sklearn`). Make sure that the dataset `titanic.csv` is in the same directory as the notebook.\n",
    "\n",
    "List your team members (name and immatriculation number) and indicate whether you are a B.Sc. Data Science or other group in the following cell:"
   ]
  },
  {
   "cell_type": "markdown",
   "metadata": {},
   "source": [
    "Zhuo Zeng 3489547"
   ]
  },
  {
   "cell_type": "code",
   "execution_count": 1,
   "metadata": {},
   "outputs": [],
   "source": [
    "# You are allowed to use the numpy package and the DecisionTreeClassifier.\n",
    "import matplotlib.pyplot as plt\n",
    "import numpy as np\n",
    "from sklearn.tree import DecisionTreeClassifier\n",
    "\n",
    "\n",
    "def load_dataset(path):\n",
    "    import pandas as pd\n",
    "    from sklearn.model_selection import train_test_split\n",
    "\n",
    "    df = pd.read_csv('titanic.csv')\n",
    "    # The feature engineering mostly follows the notebook by Manav Segal: https://www.kaggle.com/startupsci/titanic-data-science-solutions\n",
    "    # From the Name attribute we can extract titles, which gives insight about the social status/age/gender of the passenger.\n",
    "    df['Title'] = df['Name'].str.extract(' ([a-zA-Z]+)\\.', expand=False)\n",
    "    df['Title'] = df['Title'].replace(['Lady', 'Countess', 'Capt', 'Col', 'Don', 'Dr', 'Major', 'Rev', 'Sir', 'Jonkheer', 'Dona'], 'Rare')\n",
    "    df['Title'] = df['Title'].replace(['Mlle', 'Ms'], 'Miss')\n",
    "    df['Title'] = df['Title'].replace('Mme', 'Mrs')\n",
    "    # We map the Title attribute to a one-hot encoding.\n",
    "    df = df.join(pd.get_dummies(df['Title'], prefix='Title'))\n",
    "\n",
    "    # We map the Sex attribute to a numeric representation.\n",
    "    df['Sex'] = df['Sex'].map({'female': 1, 'male': 0}).astype(int)\n",
    "\n",
    "    # We one-hot encode Pclass.\n",
    "    df = df.join(pd.get_dummies(df['Pclass'], prefix='Pclass'))\n",
    "\n",
    "    # Based on the number of sibling-spouses in SibSp and parents-childern in Parch, \n",
    "    # we can determine whether a passenger was on board alone.\n",
    "    df['IsAlone'] = ((df['SibSp'] + df['Parch'] + 1) == 1).astype(int)\n",
    "\n",
    "    # We remove all attributes that do not seem relevant to the prediction, or are already encoded in another attribute.\n",
    "    df = df.drop(['PassengerId', 'Name', 'Title', 'Ticket', 'Cabin', 'Parch', 'SibSp'], axis=1)\n",
    "\n",
    "    # For remaining features, we have to separate train and test, \n",
    "    # as we will impute missing data based on statistics in the training data.\n",
    "    df_train, df_test = train_test_split(df, test_size=0.2, random_state=2020)\n",
    "    # For Embarked, we set all missing values to the most frequent port and then one-hot encode the attribute.\n",
    "    def impute_embarked():    \n",
    "        freq_port = df_train['Embarked'].dropna().mode()[0]\n",
    "        output = []\n",
    "        for df in (df_train, df_test):\n",
    "            df = df.join(pd.get_dummies(df['Embarked'].fillna(freq_port), prefix='Embarked'))\n",
    "            df = df.drop('Embarked', axis=1)\n",
    "            output.append(df)\n",
    "        return output\n",
    "\n",
    "    df_train, df_test = impute_embarked()\n",
    "\n",
    "    # For Age, we set missing values to the median dependent on the pair of Sex and Pclass.\n",
    "    guess_ages = np.zeros((2, 3))\n",
    "    for df in (df_train, df_test):\n",
    "        for i in range(2):\n",
    "            for j in range(3):\n",
    "                guess_ages[i, j] = df[(df['Sex'] == i) & (df['Pclass'] == j+1)]['Age'].dropna().median()\n",
    "        for i in range(2):\n",
    "            for j in range(3):\n",
    "                df.loc[(df['Age'].isnull()) & (df['Sex'] == i) & (df['Pclass'] == j+1), 'Age'] = guess_ages[i, j]\n",
    "        df['Age'] = df['Age'].astype(int)\n",
    "\n",
    "    df_train = df_train.drop(['Pclass'], axis=1)\n",
    "    df_test = df_test.drop(['Pclass'], axis=1)\n",
    "\n",
    "    X_train = df_train.values[:, 1:]\n",
    "    X_test = df_test.values[:, 1:]\n",
    "    y_train = df_train.values[:, 0]\n",
    "    y_test = df_test.values[:, 0]\n",
    "    \n",
    "    return X_train, X_test, y_train, y_test\n",
    "    \n",
    "X_train, X_test, y_train, y_test = load_dataset('titanic.csv')"
   ]
  },
  {
   "cell_type": "markdown",
   "metadata": {},
   "source": [
    "The Titanic dataset and a description can be found at [Kaggle](https://www.kaggle.com/c/titanic/data). The feature engineering mostly follows the work by [Manav Segal](https://www.kaggle.com/startupsci/titanic-data-science-solutions). \n",
    "\n",
    "The prepared dataset contains the following attributes:\n",
    "- Sex: binary (0 = Male, 1 = Female)\n",
    "- Age: integer\n",
    "- Fare: float\n",
    "- Title_{Master, Miss, Mr, Mrs, Rare}: title of passenger (extracted from name), binary, one-hot encoding of categorical variable Title\n",
    "- Pclass_{1, 2, 3}: ticket class corresponds to socio-economic status (1 = upper class, 2 = middle class, 3 = lower class), binary, one-hot encoding of categorical variable Pclass\n",
    "- IsAlone: whether the passenger has no siblings/spouses/parents/children on board, binary\n",
    "- Embarked_{C, Q, S}: port at which passenger embarked (C = Cherbourg, Q = Queenstown, S = Southampton), binary, one-hot encoding of categorical variable Embarked\n",
    "\n",
    "The classification target is:\n",
    "- Survived: binary\n",
    "\n",
    "Data is split into train-test with a 80-20 ratio yielding 712 training and 179 test samples. Train and test data is stored in the variables `(X_train, y_train)` and `(X_test, y_test)` respectively."
   ]
  },
  {
   "cell_type": "markdown",
   "metadata": {},
   "source": [
    "## Task 1: Random Forest\n",
    "\n",
    "In this task, you will implement a random forest classifier using the scikit-learn implementation of the decision tree. \n",
    "\n",
    "Use bootstrap sampling and sample 20% of the original data set for each tree. Randomly select 6 attributes/columns for each trained tree. The prediction of each tree should be `weighted equally in the majority vote`. Use the already imported class `DecisionTreeClassifier` for your decision trees. You can find the decision tree documentation [here](https://scikit-learn.org/stable/modules/generated/sklearn.tree.DecisionTreeClassifier.html). You may use either the default parameters or experiment with different settings.\n",
    "\n",
    "You will evaluate your model on the test data using scikit-learn with the methods shown in the lecture ([precision, recall, F1-score](https://scikit-learn.org/stable/modules/generated/sklearn.metrics.precision_recall_fscore_support.html#sklearn.metrics.precision_recall_fscore_support), [confusion matrices](https://scikit-learn.org/stable/modules/generated/sklearn.metrics.confusion_matrix.html?highlight=confusion%20matrix#sklearn.metrics.confusion_matrix), ...). Try out different number of trees and compare the performance w.r.t. this parameter. Feel free to import any functions you need from scikit-learn for this purpose. \n"
   ]
  },
  {
   "cell_type": "code",
   "execution_count": 2,
   "metadata": {},
   "outputs": [],
   "source": [
    "import random\n",
    "class RandomForestClassifier(object):\n",
    "    def __init__(self, number_of_trees):\n",
    "        self.number_of_trees = number_of_trees\n",
    "        # Add your code, such as initialization of trees here.\n",
    "        self.clfs = np.array([DecisionTreeClassifier(criterion = 'entropy') for i in range(number_of_trees)])\n",
    "        attr = []\n",
    "        \n",
    "    def fit(self, X, y):\n",
    "        # Implement your training here.\n",
    "        number_of_trees = self.number_of_trees\n",
    "        index_X = np.array([random.sample(range(X.shape[0]),round(X.shape[0]*0.2)) for i in range(number_of_trees)])\n",
    "        self.attr = np.array([np.random.permutation(X.shape[1])[0:6] for i in range(number_of_trees)])\n",
    "        # shape of sample is number_of_trees x 20% origin data size x 6 attributes\n",
    "        sample = np.array([X[index_X[i]][:,self.attr[i]] for i in range(number_of_trees)])\n",
    "        result = np.array([y_train[index_X[i]] for i in range(number_of_trees)])\n",
    "        for i in range(number_of_trees):\n",
    "            self.clfs[i].fit(sample[i], result[i])\n",
    "    \n",
    "    def predict(self, X):\n",
    "        # Implement your prediction here.\n",
    "        number_of_trees = self.number_of_trees\n",
    "        y_predict = np.array([self.clfs[i].predict(X[:,self.attr[i]]) for i in range(number_of_trees)])\n",
    "        y_aver = np.zeros(y_predict.shape[1])\n",
    "        for y in y_predict:\n",
    "            y_aver = np.add(y,y_aver)\n",
    "        y_predict_aver = [1 if i >= 0.5*number_of_trees else 0 for i in y_aver ]\n",
    "        return y_predict_aver\n"
   ]
  },
  {
   "cell_type": "code",
   "execution_count": 3,
   "metadata": {},
   "outputs": [
    {
     "name": "stdout",
     "output_type": "stream",
     "text": [
      "the average precision, recall, fscore is [0.75616247 0.63108108 0.68511215] \n"
     ]
    }
   ],
   "source": [
    "from sklearn.metrics import precision_recall_fscore_support\n",
    "number_of_trees = 8\n",
    "average = np.zeros(3)\n",
    "num = 50\n",
    "for i in range(num):\n",
    "    rfc = RandomForestClassifier(number_of_trees)\n",
    "    rfc.fit(X_train, y_train)\n",
    "    y = rfc.predict(X_test)\n",
    "    average = np.add(np.array(precision_recall_fscore_support(y_test, y,average = 'binary')[0:3]), average)\n",
    "print(f'the average precision, recall, fscore is {average/num} ')"
   ]
  },
  {
   "cell_type": "code",
   "execution_count": 4,
   "metadata": {},
   "outputs": [],
   "source": [
    "# delete\n",
    "number_of_trees = 15\n",
    "index_X = np.array([random.sample(range(X_train.shape[0]),round(X_train.shape[0]*0.2)) for i in range(number_of_trees)])\n",
    "clfs = np.array([DecisionTreeClassifier(criterion = 'entropy') for i in range(number_of_trees)])\n",
    "attr = np.array([np.random.permutation(X_train.shape[1])[0:6] for i in range(number_of_trees)])\n",
    "# sample's size is number_of_trees x 20% origin data size x 6 attributes\n",
    "sample = np.array([X_train[index_X[i]][:,attr[i]] for i in range(number_of_trees)])\n",
    "result = np.array([y_train[index_X[i]] for i in range(number_of_trees)])\n",
    "\n",
    "# clf.fit(index_X[0])\n",
    "for i in range(number_of_trees):\n",
    "    clfs[i].fit(sample[i], result[i])"
   ]
  },
  {
   "cell_type": "code",
   "execution_count": 6,
   "metadata": {},
   "outputs": [
    {
     "name": "stdout",
     "output_type": "stream",
     "text": [
      "0.7318435754189944\n",
      "Precission: 0.90625, Recall: 0.3918918918918919\n",
      "0.5977653631284916\n",
      "Precission: 0.5138888888888888, Recall: 0.5\n",
      "0.7206703910614525\n",
      "Precission: 0.6818181818181818, Recall: 0.6081081081081081\n",
      "0.547486033519553\n",
      "Precission: 0.45569620253164556, Recall: 0.4864864864864865\n",
      "0.7430167597765364\n",
      "Precission: 0.6794871794871795, Recall: 0.7162162162162162\n",
      "0.6033519553072626\n",
      "Precission: 0.5348837209302325, Recall: 0.3108108108108108\n",
      "0.6983240223463687\n",
      "Precission: 0.6612903225806451, Recall: 0.5540540540540541\n",
      "0.7318435754189944\n",
      "Precission: 0.6911764705882353, Recall: 0.6351351351351351\n",
      "0.7318435754189944\n",
      "Precission: 0.7241379310344828, Recall: 0.5675675675675675\n",
      "0.7430167597765364\n",
      "Precission: 0.7121212121212122, Recall: 0.6351351351351351\n",
      "0.664804469273743\n",
      "Precission: 0.64, Recall: 0.43243243243243246\n",
      "0.776536312849162\n",
      "Precission: 0.765625, Recall: 0.6621621621621622\n",
      "0.6536312849162011\n",
      "Precission: 0.5857142857142857, Recall: 0.5540540540540541\n",
      "0.5698324022346368\n",
      "Precission: 0.48, Recall: 0.4864864864864865\n",
      "0.6927374301675978\n",
      "Precission: 0.6862745098039216, Recall: 0.47297297297297297\n"
     ]
    }
   ],
   "source": [
    "# delete\n",
    "from sklearn.metrics import recall_score, precision_score, precision_recall_fscore_support\n",
    "\n",
    "for i in range(number_of_trees):\n",
    "    y_predict = clfs[i].predict(X_test[:,attr[i]])\n",
    "    print(clfs[i].score(X_test[:,attr[i]], y_test))\n",
    "    prec = precision_score(y_test, y_predict)\n",
    "    recall = recall_score(y_test, y_predict)\n",
    "    print(f'Precission: {prec}, Recall: {recall}')"
   ]
  },
  {
   "cell_type": "code",
   "execution_count": 7,
   "metadata": {
    "scrolled": true
   },
   "outputs": [
    {
     "name": "stdout",
     "output_type": "stream",
     "text": [
      "[1, 1, 1, 1, 0, 0, 0, 1, 0, 1, 1, 1, 0, 0, 1, 1, 1, 0, 0, 0, 1, 0, 0, 0, 0, 1, 0, 1, 0, 0, 1, 0, 0, 1, 0, 0, 1, 0, 0, 1, 1, 0, 1, 0, 0, 1, 1, 0, 0, 0, 0, 0, 1, 0, 1, 0, 1, 0, 0, 1, 0, 0, 0, 0, 0, 0, 0, 0, 0, 0, 1, 1, 0, 0, 1, 0, 0, 0, 1, 1, 0, 0, 0, 0, 1, 0, 0, 0, 0, 0, 0, 0, 0, 0, 0, 0, 0, 0, 0, 0, 1, 0, 0, 0, 0, 0, 1, 0, 1, 1, 1, 0, 1, 0, 1, 0, 0, 0, 0, 1, 0, 0, 0, 0, 0, 0, 0, 1, 0, 1, 0, 0, 0, 0, 0, 0, 0, 1, 1, 0, 0, 1, 1, 1, 0, 0, 0, 0, 0, 0, 0, 0, 0, 0, 1, 1, 1, 0, 1, 0, 0, 0, 1, 1, 0, 0, 0, 0, 1, 0, 1, 0, 0, 1, 0, 0, 0, 0, 1]\n"
     ]
    }
   ],
   "source": [
    "# delete\n",
    "y_predict = np.array([clfs[i].predict(X_test[:,attr[i]]) for i in range(number_of_trees)])\n",
    "y_aver = np.zeros(y_predict.shape[1])\n",
    "for y in y_predict:\n",
    "    y_aver = np.add(y,y_aver)\n",
    "y_predict_aver = [1 if i >= 0.5*number_of_trees else 0 for i in y_aver ]\n",
    "\n",
    "print(y_predict_aver)\n"
   ]
  },
  {
   "cell_type": "code",
   "execution_count": 8,
   "metadata": {},
   "outputs": [
    {
     "name": "stdout",
     "output_type": "stream",
     "text": [
      "Precission: 0.8245614035087719, Recall: 0.6351351351351351\n"
     ]
    },
    {
     "data": {
      "text/plain": [
       "(<function sklearn.metrics.classification.precision_score(y_true, y_pred, labels=None, pos_label=1, average='binary', sample_weight=None)>,\n",
       " (0.8245614035087719, 0.6351351351351351, 0.7175572519083969, None))"
      ]
     },
     "execution_count": 8,
     "metadata": {},
     "output_type": "execute_result"
    }
   ],
   "source": [
    "# Implement your training and evaluation here.\n",
    "from sklearn.metrics import recall_score, precision_score, precision_recall_fscore_support\n",
    "\n",
    "prec = precision_score(y_test, y_predict_aver)\n",
    "recall = recall_score(y_test, y_predict_aver)\n",
    "print(f'Precission: {prec}, Recall: {recall}')\n",
    "precision_score, precision_recall_fscore_support(y_test, y_predict_aver,average = 'binary')"
   ]
  },
  {
   "cell_type": "markdown",
   "metadata": {},
   "source": [
    "## Task 2: Interpreting Random Forests\n",
    "\n",
    "Implement the mean decrease of accuracy for the [sklearn.ensemble.RandomForestClassifier](https://scikit-learn.org/stable/modules/generated/sklearn.ensemble.RandomForestClassifier.html) `forest` to analyse learned attribute importances. Use the test set `X_test` and `y_test` as out-of-bag-samples. Permute the values of the assessed attribute by randomly shuffling the corresponding column. Plot the results to compare the importance of each feature. Discuss your results (are any importance values surprising, do the results make sense in the context of the task, ...).\n",
    "\n",
    "Note: We have already trained the classifier and stored it in the variable `forest`. You only need to implement MDA and the plots for your results."
   ]
  },
  {
   "cell_type": "code",
   "execution_count": 153,
   "metadata": {},
   "outputs": [
    {
     "name": "stdout",
     "output_type": "stream",
     "text": [
      "Precision: [0.78070175 0.75384615]\n",
      "Recall: [0.84761905 0.66216216]\n",
      "F1-score: [0.81278539 0.70503597]\n"
     ]
    }
   ],
   "source": [
    "def create_forest():\n",
    "    import sklearn.ensemble\n",
    "    import sklearn.metrics\n",
    "    forest = sklearn.ensemble.RandomForestClassifier(100)\n",
    "    forest.fit(X_train, y_train)\n",
    "    prec, rec, f1, _ = sklearn.metrics.precision_recall_fscore_support(y_test, forest.predict(X_test))\n",
    "    print('Precision:', prec)\n",
    "    print('Recall:', rec)\n",
    "    print('F1-score:', f1)\n",
    "    return forest\n",
    "\n",
    "forest = create_forest()"
   ]
  },
  {
   "cell_type": "code",
   "execution_count": 156,
   "metadata": {
    "scrolled": false
   },
   "outputs": [
    {
     "name": "stdout",
     "output_type": "stream",
     "text": [
      "accuracy reduction without column0 is: 9.942028985507207%\n",
      "accuracy reduction without column1 is: -2.2608695652173947%\n",
      "accuracy reduction without column2 is: 5.333333333333331%\n",
      "accuracy reduction without column3 is: 0.855072463768149%\n",
      "accuracy reduction without column4 is: -2.0434782608695725%\n",
      "accuracy reduction without column5 is: 5.05797101449276%\n",
      "accuracy reduction without column6 is: -0.5652173913043522%\n",
      "accuracy reduction without column7 is: 0.8405797101449656%\n",
      "accuracy reduction without column8 is: -1.4347826086956557%\n",
      "accuracy reduction without column9 is: -1.3043478260869334%\n",
      "accuracy reduction without column10 is: 2.6086956521739104%\n",
      "accuracy reduction without column11 is: -1.1304347826086758%\n",
      "accuracy reduction without column12 is: -0.5797101449275356%\n",
      "accuracy reduction without column13 is: 2.2463768115942258%\n",
      "accuracy reduction without column14 is: -1.1739130434782692%\n"
     ]
    }
   ],
   "source": [
    "# Implement your solution here.\n",
    "import copy\n",
    "acc0 = forest.score(X_test, y_test)\n",
    "num = 50\n",
    "temp = np.zeros(X_test.shape[1])\n",
    "for i in range(X_test.shape[1]):\n",
    "#     X_train, X_test, y_train, y_test = load_dataset('titanic.csv')\n",
    "    acc = 0\n",
    "    X_MDA = copy.deepcopy(X_test)\n",
    "    for j in range(num):\n",
    "        X_MDA[:,i] = np.random.permutation(X_MDA[:,i])\n",
    "        f = forest.score(X_MDA, y_test)\n",
    "        acc += f/num\n",
    "    temp[i] = (acc0 - acc)/acc0 * 100\n",
    "    print(f'accuracy reduction without column{i} is: {temp[i]}%')"
   ]
  },
  {
   "cell_type": "code",
   "execution_count": 157,
   "metadata": {
    "scrolled": true
   },
   "outputs": [
    {
     "data": {
      "image/png": "[encoded data removed]",
      "text/plain": [
       "<Figure size 432x288 with 1 Axes>"
      ]
     },
     "metadata": {
      "needs_background": "light"
     },
     "output_type": "display_data"
    }
   ],
   "source": [
    "fig, ax = plt.subplots()\n",
    "ax.set_xlabel('columns')\n",
    "ax.set_ylabel('reduction %')\n",
    "ax.set_title('Accuracy reduction in percentage')\n",
    "label = range(15)\n",
    "\n",
    "vert_bars = ax.bar(range(15),temp, color='lightblue', align='center')\n",
    "for bar, height,(x,y) in zip(vert_bars,temp,enumerate(label)):\n",
    "    plt.text(x - 0.4, height, '%.1f' % height)\n",
    "    if height < 0:\n",
    "        bar.set(edgecolor='darkred', color='salmon', linewidth=3)\n",
    "plt.show()\n"
   ]
  },
  {
   "cell_type": "markdown",
   "metadata": {},
   "source": [
    "from the result above we can know that the features/columns `0,2,5`are very imorptant, columns `4,7,10,13` are less important, the rest are trivial"
   ]
  },
  {
   "cell_type": "markdown",
   "metadata": {},
   "source": [
    "## Task 3: Discrete AdaBoost with Decision Stumps\n",
    " \n",
    "*For all students other than B.Sc. Data Science.*  \n",
    "\n",
    "In this task, you will implement the discrete AdaBoost algorithm using decision stumps as weak learners. Your training will run until either `n_learners` weak learners have been added or a perfect accuracy on the training data set is achieved. Use the function `initialize_decision_stumps` to create decision stumps, which you can train on your weighted data using `fit` and predict using `predict`. The decision stumps are instances of the class [sklearn.tree.DecisionTreeClassifier](https://scikit-learn.org/stable/modules/generated/sklearn.tree.DecisionTreeClassifier.html).\n",
    "\n",
    "In addition, you will evaluate your model on the test data (`X_test`, `y_test`) using scikit-learn with the methods shown in the lecture (precision, recall, F1-score, confusion matrices, ...). Feel free to import any functions you need from scikit-learn for this purpose."
   ]
  },
  {
   "cell_type": "code",
   "execution_count": null,
   "metadata": {},
   "outputs": [],
   "source": [
    "def initialize_decision_stump():\n",
    "    stump = DecisionTreeClassifier(criterion='entropy', max_depth=1)\n",
    "    return stump\n",
    "\n",
    "\n",
    "class AdaBoostClassifier(object):\n",
    "    def __init__(self, n_learners):\n",
    "        self.n_learners = n_learners\n",
    "        # Add any initialization you need here.\n",
    "    \n",
    "    def fit(self, X, y):\n",
    "        # Implement your solution here.\n",
    "        pass\n",
    "    \n",
    "    def predict(self, X, y):\n",
    "        # Implement your solution here.\n",
    "        pass\n"
   ]
  },
  {
   "cell_type": "code",
   "execution_count": null,
   "metadata": {},
   "outputs": [],
   "source": [
    "# Implement your training and evaluation here. You may reuse the code from Task 1."
   ]
  }
 ],
 "metadata": {
  "kernelspec": {
   "display_name": "Python 3",
   "language": "python",
   "name": "python3"
  },
  "language_info": {
   "codemirror_mode": {
    "name": "ipython",
    "version": 3
   },
   "file_extension": ".py",
   "mimetype": "text/x-python",
   "name": "python",
   "nbconvert_exporter": "python",
   "pygments_lexer": "ipython3",
   "version": "3.7.4"
  }
 },
 "nbformat": 4,
 "nbformat_minor": 1
}
