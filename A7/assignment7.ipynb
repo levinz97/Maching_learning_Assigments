{
 "cells": [
  {
   "cell_type": "markdown",
   "metadata": {},
   "source": [
    "# Assignment 7: Bagging and Boosting\n",
    "\n",
    "Only use the already imported library `numpy`, `matplotlib` and the Python standard library. For the evaluation you may also use scikit-learn (`sklearn`). Make sure that the dataset `titanic.csv` is in the same directory as the notebook.\n",
    "\n",
    "List your team members (name and immatriculation number) and indicate whether you are a B.Sc. Data Science or other group in the following cell:"
   ]
  },
  {
   "cell_type": "markdown",
   "metadata": {},
   "source": [
    "Zhuo Zeng 3489547"
   ]
  },
  {
   "cell_type": "code",
   "execution_count": 1,
   "metadata": {},
   "outputs": [],
   "source": [
    "# You are allowed to use the numpy package and the DecisionTreeClassifier.\n",
    "import matplotlib.pyplot as plt\n",
    "import numpy as np\n",
    "from sklearn.tree import DecisionTreeClassifier\n",
    "\n",
    "\n",
    "def load_dataset(path):\n",
    "    import pandas as pd\n",
    "    from sklearn.model_selection import train_test_split\n",
    "\n",
    "    df = pd.read_csv('titanic.csv')\n",
    "    # The feature engineering mostly follows the notebook by Manav Segal: https://www.kaggle.com/startupsci/titanic-data-science-solutions\n",
    "    # From the Name attribute we can extract titles, which gives insight about the social status/age/gender of the passenger.\n",
    "    df['Title'] = df['Name'].str.extract(' ([a-zA-Z]+)\\.', expand=False)\n",
    "    df['Title'] = df['Title'].replace(['Lady', 'Countess', 'Capt', 'Col', 'Don', 'Dr', 'Major', 'Rev', 'Sir', 'Jonkheer', 'Dona'], 'Rare')\n",
    "    df['Title'] = df['Title'].replace(['Mlle', 'Ms'], 'Miss')\n",
    "    df['Title'] = df['Title'].replace('Mme', 'Mrs')\n",
    "    # We map the Title attribute to a one-hot encoding.\n",
    "    df = df.join(pd.get_dummies(df['Title'], prefix='Title'))\n",
    "\n",
    "    # We map the Sex attribute to a numeric representation.\n",
    "    df['Sex'] = df['Sex'].map({'female': 1, 'male': 0}).astype(int)\n",
    "\n",
    "    # We one-hot encode Pclass.\n",
    "    df = df.join(pd.get_dummies(df['Pclass'], prefix='Pclass'))\n",
    "\n",
    "    # Based on the number of sibling-spouses in SibSp and parents-childern in Parch, \n",
    "    # we can determine whether a passenger was on board alone.\n",
    "    df['IsAlone'] = ((df['SibSp'] + df['Parch'] + 1) == 1).astype(int)\n",
    "\n",
    "    # We remove all attributes that do not seem relevant to the prediction, or are already encoded in another attribute.\n",
    "    df = df.drop(['PassengerId', 'Name', 'Title', 'Ticket', 'Cabin', 'Parch', 'SibSp'], axis=1)\n",
    "\n",
    "    # For remaining features, we have to separate train and test, \n",
    "    # as we will impute missing data based on statistics in the training data.\n",
    "    df_train, df_test = train_test_split(df, test_size=0.2, random_state=2020)\n",
    "    # For Embarked, we set all missing values to the most frequent port and then one-hot encode the attribute.\n",
    "    def impute_embarked():    \n",
    "        freq_port = df_train['Embarked'].dropna().mode()[0]\n",
    "        output = []\n",
    "        for df in (df_train, df_test):\n",
    "            df = df.join(pd.get_dummies(df['Embarked'].fillna(freq_port), prefix='Embarked'))\n",
    "            df = df.drop('Embarked', axis=1)\n",
    "            output.append(df)\n",
    "        return output\n",
    "\n",
    "    df_train, df_test = impute_embarked()\n",
    "\n",
    "    # For Age, we set missing values to the median dependent on the pair of Sex and Pclass.\n",
    "    guess_ages = np.zeros((2, 3))\n",
    "    for df in (df_train, df_test):\n",
    "        for i in range(2):\n",
    "            for j in range(3):\n",
    "                guess_ages[i, j] = df[(df['Sex'] == i) & (df['Pclass'] == j+1)]['Age'].dropna().median()\n",
    "        for i in range(2):\n",
    "            for j in range(3):\n",
    "                df.loc[(df['Age'].isnull()) & (df['Sex'] == i) & (df['Pclass'] == j+1), 'Age'] = guess_ages[i, j]\n",
    "        df['Age'] = df['Age'].astype(int)\n",
    "\n",
    "    df_train = df_train.drop(['Pclass'], axis=1)\n",
    "    df_test = df_test.drop(['Pclass'], axis=1)\n",
    "\n",
    "    X_train = df_train.values[:, 1:]\n",
    "    X_test = df_test.values[:, 1:]\n",
    "    y_train = df_train.values[:, 0]\n",
    "    y_test = df_test.values[:, 0]\n",
    "    \n",
    "    return X_train, X_test, y_train, y_test\n",
    "    \n",
    "X_train, X_test, y_train, y_test = load_dataset('titanic.csv')"
   ]
  },
  {
   "cell_type": "markdown",
   "metadata": {},
   "source": [
    "The Titanic dataset and a description can be found at [Kaggle](https://www.kaggle.com/c/titanic/data). The feature engineering mostly follows the work by [Manav Segal](https://www.kaggle.com/startupsci/titanic-data-science-solutions). \n",
    "\n",
    "The prepared dataset contains the following attributes:\n",
    "- Sex: binary (0 = Male, 1 = Female)\n",
    "- Age: integer\n",
    "- Fare: float\n",
    "- Title_{Master, Miss, Mr, Mrs, Rare}: title of passenger (extracted from name), binary, one-hot encoding of categorical variable Title\n",
    "- Pclass_{1, 2, 3}: ticket class corresponds to socio-economic status (1 = upper class, 2 = middle class, 3 = lower class), binary, one-hot encoding of categorical variable Pclass\n",
    "- IsAlone: whether the passenger has no siblings/spouses/parents/children on board, binary\n",
    "- Embarked_{C, Q, S}: port at which passenger embarked (C = Cherbourg, Q = Queenstown, S = Southampton), binary, one-hot encoding of categorical variable Embarked\n",
    "\n",
    "The classification target is:\n",
    "- Survived: binary\n",
    "\n",
    "Data is split into train-test with a 80-20 ratio yielding 712 training and 179 test samples. Train and test data is stored in the variables `(X_train, y_train)` and `(X_test, y_test)` respectively."
   ]
  },
  {
   "cell_type": "markdown",
   "metadata": {},
   "source": [
    "## Task 1: Random Forest\n",
    "\n",
    "In this task, you will implement a random forest classifier using the scikit-learn implementation of the decision tree. \n",
    "\n",
    "Use bootstrap sampling and sample 20% of the original data set for each tree. Randomly select 6 attributes/columns for each trained tree. The prediction of each tree should be `weighted equally in the majority vote`. Use the already imported class `DecisionTreeClassifier` for your decision trees. You can find the decision tree documentation [here](https://scikit-learn.org/stable/modules/generated/sklearn.tree.DecisionTreeClassifier.html). You may use either the default parameters or experiment with different settings.\n",
    "\n",
    "You will evaluate your model on the test data using scikit-learn with the methods shown in the lecture ([precision, recall, F1-score](https://scikit-learn.org/stable/modules/generated/sklearn.metrics.precision_recall_fscore_support.html#sklearn.metrics.precision_recall_fscore_support), [confusion matrices](https://scikit-learn.org/stable/modules/generated/sklearn.metrics.confusion_matrix.html?highlight=confusion%20matrix#sklearn.metrics.confusion_matrix), ...). Try out different number of trees and compare the performance w.r.t. this parameter. Feel free to import any functions you need from scikit-learn for this purpose. \n"
   ]
  },
  {
   "cell_type": "code",
   "execution_count": 2,
   "metadata": {},
   "outputs": [],
   "source": [
    "import random\n",
    "class RandomForestClassifier(object):\n",
    "    def __init__(self, number_of_trees):\n",
    "        self.number_of_trees = number_of_trees\n",
    "        # Add your code, such as initialization of trees here.\n",
    "        self.clfs = np.array([DecisionTreeClassifier(criterion = 'entropy') for i in range(number_of_trees)])\n",
    "        attr = []\n",
    "        \n",
    "    def fit(self, X, y):\n",
    "        # Implement your training here.\n",
    "        number_of_trees = self.number_of_trees\n",
    "        index_X = np.array([random.sample(range(X.shape[0]),round(X.shape[0]*0.2)) for i in range(number_of_trees)])\n",
    "        self.attr = np.array([np.random.permutation(X.shape[1])[0:6] for i in range(number_of_trees)])\n",
    "        # shape of sample is number_of_trees x 20% origin data size x 6 attributes\n",
    "        sample = np.array([X[index_X[i]][:,self.attr[i]] for i in range(number_of_trees)])\n",
    "        result = np.array([y_train[index_X[i]] for i in range(number_of_trees)])\n",
    "        for i in range(number_of_trees):\n",
    "            self.clfs[i].fit(sample[i], result[i])\n",
    "    \n",
    "    def predict(self, X):\n",
    "        # Implement your prediction here.\n",
    "        number_of_trees = self.number_of_trees\n",
    "        y_predict = np.array([self.clfs[i].predict(X[:,self.attr[i]]) for i in range(number_of_trees)])\n",
    "        y_aver = np.zeros(y_predict.shape[1])\n",
    "        for y in y_predict:\n",
    "            y_aver = np.add(y,y_aver)\n",
    "        y_predict_aver = [1 if i >= 0.5*number_of_trees else 0 for i in y_aver ]\n",
    "        return y_predict_aver\n"
   ]
  },
  {
   "cell_type": "code",
   "execution_count": 3,
   "metadata": {},
   "outputs": [
    {
     "name": "stdout",
     "output_type": "stream",
     "text": [
      "the average precision, recall, fscore is [0.76815453 0.60486486 0.67338237] \n"
     ]
    }
   ],
   "source": [
    "from sklearn.metrics import precision_recall_fscore_support\n",
    "number_of_trees = 8\n",
    "average = np.zeros(3)\n",
    "num = 50\n",
    "for i in range(num):\n",
    "    rfc = RandomForestClassifier(number_of_trees)\n",
    "    rfc.fit(X_train, y_train)\n",
    "    y = rfc.predict(X_test)\n",
    "    average = np.add(np.array(precision_recall_fscore_support(y_test, y,average = 'binary')[0:3]), average)\n",
    "print(f'the average precision, recall, fscore is {average/num} ')"
   ]
  },
  {
   "cell_type": "code",
   "execution_count": 4,
   "metadata": {},
   "outputs": [],
   "source": [
    "# delete\n",
    "number_of_trees = 15\n",
    "index_X = np.array([random.sample(range(X_train.shape[0]),round(X_train.shape[0]*0.2)) for i in range(number_of_trees)])\n",
    "clfs = np.array([DecisionTreeClassifier(criterion = 'entropy') for i in range(number_of_trees)])\n",
    "attr = np.array([np.random.permutation(X_train.shape[1])[0:6] for i in range(number_of_trees)])\n",
    "# sample's size is number_of_trees x 20% origin data size x 6 attributes\n",
    "sample = np.array([X_train[index_X[i]][:,attr[i]] for i in range(number_of_trees)])\n",
    "result = np.array([y_train[index_X[i]] for i in range(number_of_trees)])\n",
    "\n",
    "# clf.fit(index_X[0])\n",
    "for i in range(number_of_trees):\n",
    "    clfs[i].fit(sample[i], result[i])"
   ]
  },
  {
   "cell_type": "code",
   "execution_count": 5,
   "metadata": {},
   "outputs": [
    {
     "name": "stdout",
     "output_type": "stream",
     "text": [
      "0.6033519553072626\n",
      "Precission: 0.5230769230769231, Recall: 0.4594594594594595\n",
      "0.7486033519553073\n",
      "Precission: 0.7230769230769231, Recall: 0.6351351351351351\n",
      "0.7430167597765364\n",
      "Precission: 0.7, Recall: 0.6621621621621622\n",
      "0.6312849162011173\n",
      "Precission: 0.58, Recall: 0.3918918918918919\n",
      "0.6815642458100558\n",
      "Precission: 0.6075949367088608, Recall: 0.6486486486486487\n",
      "0.7597765363128491\n",
      "Precission: 0.7627118644067796, Recall: 0.6081081081081081\n",
      "0.6927374301675978\n",
      "Precission: 0.6666666666666666, Recall: 0.5135135135135135\n",
      "0.7597765363128491\n",
      "Precission: 0.7183098591549296, Recall: 0.6891891891891891\n",
      "0.7374301675977654\n",
      "Precission: 0.7076923076923077, Recall: 0.6216216216216216\n",
      "0.659217877094972\n",
      "Precission: 0.5915492957746479, Recall: 0.5675675675675675\n",
      "0.7653631284916201\n",
      "Precission: 0.8636363636363636, Recall: 0.5135135135135135\n",
      "0.5027932960893855\n",
      "Precission: 0.42105263157894735, Recall: 0.5405405405405406\n",
      "0.6256983240223464\n",
      "Precission: 0.5636363636363636, Recall: 0.4189189189189189\n",
      "0.6815642458100558\n",
      "Precission: 0.6231884057971014, Recall: 0.581081081081081\n",
      "0.6424581005586593\n",
      "Precission: 0.6041666666666666, Recall: 0.3918918918918919\n"
     ]
    }
   ],
   "source": [
    "# delete\n",
    "from sklearn.metrics import recall_score, precision_score, precision_recall_fscore_support\n",
    "\n",
    "for i in range(number_of_trees):\n",
    "    y_predict = clfs[i].predict(X_test[:,attr[i]])\n",
    "    print(clfs[i].score(X_test[:,attr[i]], y_test))\n",
    "    prec = precision_score(y_test, y_predict)\n",
    "    recall = recall_score(y_test, y_predict)\n",
    "    print(f'Precission: {prec}, Recall: {recall}')"
   ]
  },
  {
   "cell_type": "code",
   "execution_count": 6,
   "metadata": {
    "scrolled": true
   },
   "outputs": [
    {
     "name": "stdout",
     "output_type": "stream",
     "text": [
      "[1, 1, 1, 1, 0, 1, 0, 1, 0, 1, 1, 0, 0, 1, 1, 1, 1, 0, 0, 0, 1, 0, 0, 0, 0, 1, 0, 1, 0, 0, 1, 0, 0, 0, 0, 0, 1, 0, 0, 1, 1, 0, 0, 0, 0, 1, 1, 0, 0, 0, 0, 0, 1, 0, 1, 0, 1, 0, 0, 1, 0, 0, 0, 0, 1, 0, 0, 0, 0, 0, 1, 1, 0, 0, 0, 0, 0, 0, 1, 0, 0, 1, 0, 0, 1, 0, 0, 0, 1, 1, 0, 0, 0, 0, 0, 0, 0, 0, 0, 0, 1, 0, 0, 0, 0, 0, 1, 0, 1, 1, 1, 0, 1, 0, 1, 0, 0, 0, 0, 1, 0, 1, 1, 0, 0, 0, 0, 1, 0, 1, 0, 0, 0, 0, 0, 0, 0, 1, 1, 0, 1, 1, 1, 1, 0, 0, 0, 0, 0, 0, 0, 0, 0, 0, 1, 1, 1, 0, 1, 1, 0, 0, 1, 0, 0, 0, 0, 0, 1, 0, 1, 0, 0, 1, 0, 0, 0, 0, 1]\n"
     ]
    }
   ],
   "source": [
    "# delete\n",
    "y_predict = np.array([clfs[i].predict(X_test[:,attr[i]]) for i in range(number_of_trees)])\n",
    "y_aver = np.zeros(y_predict.shape[1])\n",
    "for y in y_predict:\n",
    "    y_aver = np.add(y,y_aver)\n",
    "y_predict_aver = [1 if i >= 0.5*number_of_trees else 0 for i in y_aver ]\n",
    "\n",
    "print(y_predict_aver)\n"
   ]
  },
  {
   "cell_type": "code",
   "execution_count": 7,
   "metadata": {},
   "outputs": [
    {
     "name": "stdout",
     "output_type": "stream",
     "text": [
      "Precission: 0.7868852459016393, Recall: 0.6486486486486487\n"
     ]
    },
    {
     "data": {
      "text/plain": [
       "(<function sklearn.metrics.classification.precision_score(y_true, y_pred, labels=None, pos_label=1, average='binary', sample_weight=None)>,\n",
       " (0.7868852459016393, 0.6486486486486487, 0.711111111111111, None))"
      ]
     },
     "execution_count": 7,
     "metadata": {},
     "output_type": "execute_result"
    }
   ],
   "source": [
    "# Implement your training and evaluation here.\n",
    "from sklearn.metrics import recall_score, precision_score, precision_recall_fscore_support\n",
    "\n",
    "prec = precision_score(y_test, y_predict_aver)\n",
    "recall = recall_score(y_test, y_predict_aver)\n",
    "print(f'Precission: {prec}, Recall: {recall}')\n",
    "precision_score, precision_recall_fscore_support(y_test, y_predict_aver,average = 'binary')"
   ]
  },
  {
   "cell_type": "markdown",
   "metadata": {},
   "source": [
    "## Task 2: Interpreting Random Forests\n",
    "\n",
    "Implement the mean decrease of accuracy for the [sklearn.ensemble.RandomForestClassifier](https://scikit-learn.org/stable/modules/generated/sklearn.ensemble.RandomForestClassifier.html) `forest` to analyse learned attribute importances. Use the test set `X_test` and `y_test` as out-of-bag-samples. Permute the values of the assessed attribute by randomly shuffling the corresponding column. Plot the results to compare the importance of each feature. Discuss your results (are any importance values surprising, do the results make sense in the context of the task, ...).\n",
    "\n",
    "Note: We have already trained the classifier and stored it in the variable `forest`. You only need to implement MDA and the plots for your results."
   ]
  },
  {
   "cell_type": "code",
   "execution_count": 18,
   "metadata": {},
   "outputs": [
    {
     "name": "stdout",
     "output_type": "stream",
     "text": [
      "Precision: [0.77477477 0.72058824]\n",
      "Recall: [0.81904762 0.66216216]\n",
      "F1-score: [0.7962963  0.69014085]\n"
     ]
    }
   ],
   "source": [
    "def create_forest():\n",
    "    import sklearn.ensemble\n",
    "    import sklearn.metrics\n",
    "    forest = sklearn.ensemble.RandomForestClassifier(100)\n",
    "    forest.fit(X_train, y_train)\n",
    "    prec, rec, f1, _ = sklearn.metrics.precision_recall_fscore_support(y_test, forest.predict(X_test))\n",
    "    print('Precision:', prec)\n",
    "    print('Recall:', rec)\n",
    "    print('F1-score:', f1)\n",
    "    return forest\n",
    "\n",
    "forest = create_forest()"
   ]
  },
  {
   "cell_type": "code",
   "execution_count": 21,
   "metadata": {
    "scrolled": false
   },
   "outputs": [
    {
     "name": "stdout",
     "output_type": "stream",
     "text": [
      "accuracy reduction without column0 is: 6.311111111111102%\n",
      "accuracy reduction without column1 is: -4.399999999999981%\n",
      "accuracy reduction without column2 is: 4.399999999999996%\n",
      "accuracy reduction without column3 is: 1.288888888888881%\n",
      "accuracy reduction without column4 is: 0.8740740740741224%\n",
      "accuracy reduction without column5 is: 4.281481481481475%\n",
      "accuracy reduction without column6 is: -0.4296296296296122%\n",
      "accuracy reduction without column7 is: 0.7555555555555864%\n",
      "accuracy reduction without column8 is: -2.9777777777777694%\n",
      "accuracy reduction without column9 is: -1.1259259259258863%\n",
      "accuracy reduction without column10 is: 1.837037037037044%\n",
      "accuracy reduction without column11 is: -1.4666666666666408%\n",
      "accuracy reduction without column12 is: -2.607407407407381%\n",
      "accuracy reduction without column13 is: 1.3777777777778122%\n",
      "accuracy reduction without column14 is: -0.25185185185180814%\n"
     ]
    }
   ],
   "source": [
    "# Implement your solution here.\n",
    "import copy\n",
    "acc0 = forest.score(X_test, y_test)\n",
    "num = 50\n",
    "temp = np.zeros(X_test.shape[1])\n",
    "for i in range(X_test.shape[1]):\n",
    "    X_train, X_test, y_train, y_test = load_dataset('titanic.csv')\n",
    "    acc = 0\n",
    "    X_MDA = copy.deepcopy(X_test)\n",
    "    for j in range(num):\n",
    "        X_MDA[:,i] = np.random.permutation(X_MDA[:,i])\n",
    "        f = forest.score(X_MDA, y_test)\n",
    "        acc += f/num\n",
    "    temp[i] = (acc0 - acc)/acc0 * 100\n",
    "    print(f'accuracy reduction without column{i} is: {temp[i]}%')"
   ]
  },
  {
   "cell_type": "code",
   "execution_count": 22,
   "metadata": {
    "scrolled": true
   },
   "outputs": [
    {
     "data": {
      "image/png": "[encoded data removed]",
      "text/plain": [
       "<Figure size 432x288 with 1 Axes>"
      ]
     },
     "metadata": {
      "needs_background": "light"
     },
     "output_type": "display_data"
    }
   ],
   "source": [
    "fig, ax = plt.subplots()\n",
    "ax.set_xlabel('columns')\n",
    "ax.set_ylabel('reduction %')\n",
    "ax.set_title('Accuracy reduction in percentage')\n",
    "label = range(15)\n",
    "\n",
    "vert_bars = ax.bar(range(15),temp, color='lightblue', align='center')\n",
    "for bar, height,(x,y) in zip(vert_bars,temp,enumerate(label)):\n",
    "    plt.text(x - 0.4, height, '%.1f' % height)\n",
    "    if height < 0:\n",
    "        bar.set(edgecolor='darkred', color='salmon', linewidth=3)\n",
    "plt.show()\n"
   ]
  },
  {
   "cell_type": "markdown",
   "metadata": {},
   "source": [
    "from the result above we can know that the features/columns `0,2,5`are very imorptant, columns `3,4,7,10,13` are less important, the rest are trivial"
   ]
  },
  {
   "cell_type": "markdown",
   "metadata": {},
   "source": [
    "## Task 3: Discrete AdaBoost with Decision Stumps\n",
    " \n",
    "*For all students other than B.Sc. Data Science.*  \n",
    "\n",
    "In this task, you will implement the discrete AdaBoost algorithm using decision stumps as weak learners. Your training will run until either `n_learners` weak learners have been added or a perfect accuracy on the training data set is achieved. Use the function `initialize_decision_stumps` to create decision stumps, which you can train on your weighted data using `fit` and predict using `predict`. The decision stumps are instances of the class [sklearn.tree.DecisionTreeClassifier](https://scikit-learn.org/stable/modules/generated/sklearn.tree.DecisionTreeClassifier.html).\n",
    "\n",
    "In addition, you will evaluate your model on the test data (`X_test`, `y_test`) using scikit-learn with the methods shown in the lecture (precision, recall, F1-score, confusion matrices, ...). Feel free to import any functions you need from scikit-learn for this purpose."
   ]
  },
  {
   "cell_type": "code",
   "execution_count": 45,
   "metadata": {},
   "outputs": [],
   "source": [
    "def initialize_decision_stump():\n",
    "    stump = DecisionTreeClassifier(criterion='entropy', max_depth=1)\n",
    "    return stump\n",
    "\n",
    "\n",
    "class AdaBoostClassifier(object):\n",
    "    def __init__(self, n_learners):\n",
    "        self.n_learners = n_learners\n",
    "        # Add any initialization you need here.\n",
    "        self.theta = np.ones(n_learners)\n",
    "        self.stumps = [initialize_decision_stump() for i in range(n_learners)]\n",
    "        self.weights = 0\n",
    "\n",
    "        \n",
    "    def fit(self, X, y):\n",
    "        # Implement your solution here.\n",
    "        weights = np.ones(len(X))/len(X)\n",
    "        theta = self.theta\n",
    "        stumps = self.stumps\n",
    "        for i in range(self.n_learners):\n",
    "            stumps[i].fit(X, y, weights)\n",
    "            miss = 0\n",
    "            counts = np.zeros(X.shape[0])\n",
    "            for j, weight, predict, y0 in zip(range(len(counts)), weights, stumps[i].predict(X), y):\n",
    "                if predict != y0 :\n",
    "                    miss += weight / np.sum(weights)\n",
    "                    counts[j] = 1\n",
    "            if miss != 0:\n",
    "                theta[i] =  np.log((1 - miss) / miss)\n",
    "            else:\n",
    "                theta[i] = np.inf\n",
    "            weights *= np.exp(theta[i]*counts)\n",
    "            weights /= np.sum(weights) \n",
    "        self.theta = theta\n",
    "    \n",
    "    def predict(self, X):\n",
    "        # Implement your solution here.\n",
    "        result = 0\n",
    "        theta = self.theta\n",
    "        stumps = self.stumps\n",
    "        for j in range(self.n_learners):\n",
    "            result += theta[j] * stumps[j].predict(X)\n",
    "        \n",
    "        y_predict_aver = [1 if i >= 0.5 * np.sum(theta) else 0 for i in result ]\n",
    "\n",
    "        return y_predict_aver\n"
   ]
  },
  {
   "cell_type": "code",
   "execution_count": 72,
   "metadata": {},
   "outputs": [
    {
     "data": {
      "text/plain": [
       "0.8174157303370787"
      ]
     },
     "execution_count": 72,
     "metadata": {},
     "output_type": "execute_result"
    }
   ],
   "source": [
    "acf = AdaBoostClassifier(50)\n",
    "acf.fit(X_train,y_train)\n",
    "accuracy_score(y_train, acf.predict(X_train))"
   ]
  },
  {
   "cell_type": "code",
   "execution_count": 73,
   "metadata": {},
   "outputs": [
    {
     "data": {
      "text/plain": [
       "array([1.32086656, 0.8990164 , 0.12929369, 0.14800527, 0.13579396,\n",
       "       0.34056594, 0.20789839, 0.10274352, 0.07687658, 0.07402966,\n",
       "       0.07138615, 0.23492516, 0.18746372, 0.0653209 , 0.06325428,\n",
       "       0.06131445, 0.25742354, 0.15877347, 0.04886316, 0.04769761,\n",
       "       0.04658637, 0.04552575, 0.04451235, 0.04354309, 0.04261515,\n",
       "       0.04172594, 0.043631  , 0.08169705, 0.04014532, 0.03935525,\n",
       "       0.03859568, 0.03786488, 0.03716124, 0.04253681, 0.07634445,\n",
       "       0.03590589, 0.03527258, 0.03466122, 0.21852231, 0.18209039,\n",
       "       0.26416309, 0.04709529, 0.07587195, 0.03547912, 0.03486064,\n",
       "       0.03426336, 0.0336862 , 0.03312817, 0.17120318, 0.09088205])"
      ]
     },
     "execution_count": 73,
     "metadata": {},
     "output_type": "execute_result"
    }
   ],
   "source": [
    "acf.theta"
   ]
  },
  {
   "cell_type": "code",
   "execution_count": 59,
   "metadata": {},
   "outputs": [
    {
     "name": "stdout",
     "output_type": "stream",
     "text": [
      "With a number of 52 base models we receive an accuracy of  75.97765363128491 %\n"
     ]
    },
    {
     "data": {
      "image/png": "[encoded data removed]",
      "text/plain": [
       "<Figure size 720x720 with 1 Axes>"
      ]
     },
     "metadata": {
      "needs_background": "light"
     },
     "output_type": "display_data"
    }
   ],
   "source": [
    "n_learners = 50\n",
    "\n",
    "fig = plt.figure(figsize=(10,10))\n",
    "ax0 = fig.add_subplot()\n",
    "acc = []\n",
    "num = 2\n",
    "for i in range(n_learners):\n",
    "    acf = AdaBoostClassifier(num)\n",
    "    acf.fit(X_train,y_train)\n",
    "    acc.append(accuracy_score(y_test, acf.predict(X_test)))\n",
    "    num += 1\n",
    "    \n",
    "    \n",
    "ax0.plot(range(len(acc)),acc,'-b')\n",
    "ax0.set_xlabel('# models used for AdaBoost ')\n",
    "ax0.set_ylabel('accuracy in %')\n",
    "print('With a number of',num,'base models we receive an accuracy of ',acc[-1]*100,'%')                    \n",
    "plt.show()\n",
    "\n"
   ]
  },
  {
   "cell_type": "code",
   "execution_count": 51,
   "metadata": {},
   "outputs": [
    {
     "data": {
      "text/plain": [
       "0.7318435754189944"
      ]
     },
     "execution_count": 51,
     "metadata": {},
     "output_type": "execute_result"
    }
   ],
   "source": [
    "dcf = DecisionTreeClassifier(criterion='entropy', max_depth= 50)\n",
    "dcf.fit(X_train, y_train)\n",
    "dcf.score(X_test, y_test)"
   ]
  },
  {
   "cell_type": "code",
   "execution_count": 30,
   "metadata": {},
   "outputs": [
    {
     "name": "stdout",
     "output_type": "stream",
     "text": [
      "the average precision, recall, fscore is [0.74540071 0.62324324 0.67687193] \n"
     ]
    }
   ],
   "source": [
    "# Implement your training and evaluation here. You may reuse the code from Task 1.\n",
    "from sklearn.metrics import precision_recall_fscore_support\n",
    "number_of_trees = 8\n",
    "average = np.zeros(3)\n",
    "num = 50\n",
    "for i in range(num):\n",
    "    rfc = RandomForestClassifier(number_of_trees)\n",
    "    rfc.fit(X_train, y_train)\n",
    "    y = rfc.predict(X_test)\n",
    "    average = np.add(np.array(precision_recall_fscore_support(y_test, y,average = 'binary')[0:3]), average)\n",
    "print(f'the average precision, recall, fscore is {average/num} ')"
   ]
  },
  {
   "cell_type": "code",
   "execution_count": 31,
   "metadata": {
    "scrolled": true
   },
   "outputs": [
    {
     "name": "stdout",
     "output_type": "stream",
     "text": [
      "before 0.7893258426966293\n",
      "0.21067415730337122\n",
      "(712,) () (712,)\n",
      "after 0.5000000000000008\n",
      "before 0.7107473309608541\n",
      "0.28925266903914626\n",
      "(712,) () (712,)\n",
      "after 0.5000000000000003\n",
      "before 0.5322784698775133\n",
      "0.4677215301224836\n",
      "(712,) () (712,)\n",
      "after 0.4999999999999968\n",
      "before 0.5369339202465968\n",
      "0.4630660797534046\n",
      "(712,) () (712,)\n",
      "after 0.5000000000000012\n",
      "before 0.5338964186590665\n",
      "0.4661035813409303\n",
      "(712,) () (712,)\n",
      "after 0.4999999999999967\n",
      "before 0.5843279893936717\n",
      "0.4156720106063288\n",
      "(712,) () (712,)\n",
      "after 0.5000000000000006\n",
      "before 0.5517882015999447\n",
      "0.4482117984000532\n",
      "(712,) () (712,)\n",
      "after 0.4999999999999978\n",
      "before 0.5256633088685777\n",
      "0.47433669113142285\n",
      "(712,) () (712,)\n",
      "after 0.5000000000000004\n",
      "before 0.5192096853134486\n",
      "0.48079031468655065\n",
      "(712,) () (712,)\n",
      "after 0.4999999999999992\n",
      "before 0.518498966657231\n",
      "0.48150103334276856\n",
      "(712,) () (712,)\n",
      "after 0.49999999999999967\n",
      "before 0.5178389619332259\n",
      "0.48216103806677185\n",
      "(712,) () (712,)\n",
      "after 0.49999999999999767\n",
      "before 0.5584626582302464\n",
      "0.44153734176975445\n",
      "(712,) () (712,)\n",
      "after 0.500000000000001\n",
      "before 0.5467291606556794\n",
      "0.45327083934432094\n",
      "(712,) () (712,)\n",
      "after 0.5000000000000003\n",
      "before 0.5163244214095268\n",
      "0.4836755785904718\n",
      "(712,) () (712,)\n",
      "after 0.49999999999999845\n",
      "before 0.5158082987484536\n",
      "0.48419170125154515\n",
      "(712,) () (712,)\n",
      "after 0.49999999999999883\n",
      "before 0.5153238119537922\n",
      "0.48467618804620693\n",
      "(712,) () (712,)\n",
      "after 0.4999999999999991\n",
      "before 0.5640028363938632\n",
      "0.43599716360613655\n",
      "(712,) () (712,)\n",
      "after 0.4999999999999997\n",
      "before 0.5396101908032646\n",
      "0.4603898091967339\n",
      "(712,) () (712,)\n",
      "after 0.4999999999999984\n",
      "before 0.5122133607502507\n",
      "0.48778663924975035\n",
      "(712,) () (712,)\n",
      "after 0.5000000000000009\n",
      "before 0.5119221419101201\n",
      "0.48807785808988075\n",
      "(712,) () (712,)\n",
      "after 0.5000000000000008\n",
      "0.8132022471910112\n"
     ]
    },
    {
     "data": {
      "text/plain": [
       "0.45224719101123595"
      ]
     },
     "execution_count": 31,
     "metadata": {},
     "output_type": "execute_result"
    }
   ],
   "source": [
    "# delete\n",
    "n_learners = 20\n",
    "stumps = [initialize_decision_stump() for i in range(n_learners)]\n",
    "weights = np.ones(len(X_train))/len(X_train)\n",
    "theta = np.ones(n_learners)\n",
    "\n",
    "for i in range(n_learners):\n",
    "\n",
    "#     temp = (X_train.T * weights).T\n",
    "#     print('temp', weights) \n",
    "    stumps[i].fit(X_train, y_train, weights)\n",
    "    \n",
    "#     errof = np.exp(-y_train * stumps[i].predict(temp))\n",
    "    \n",
    "    print('before',stumps[i].score(X_train, y_train, weights))\n",
    "    \n",
    "    miss = 0\n",
    "    counts = np.zeros(X_train.shape[0])\n",
    "    n = 0\n",
    "    for j, weight, predict, y in zip(range(len(counts)), weights, stumps[i].predict(X_train), y_train): \n",
    "        if predict != y :\n",
    "            n +=1\n",
    "            miss += weight/np.sum(weights)\n",
    "            counts[j] = 1\n",
    "    if miss != 0:\n",
    "        print(miss)\n",
    "        theta[i] =  np.log((1 - miss) / miss)\n",
    "    else:\n",
    "        theta[i] = np.inf\n",
    "   \n",
    "    weights *= np.exp(theta[i]*counts)\n",
    "    print(weights.shape, theta[i].shape, counts.shape)\n",
    "    weights /= np.sum(weights)\n",
    "\n",
    "    if(stumps[i].score(X_test,y_test) > 0.9):\n",
    "        break\n",
    "    print('after',stumps[i].score(X_train,y_train, weights))        \n",
    "         \n",
    "\n",
    "def predict(stumps, theta, number_of_learners, X) :\n",
    "    result = 0\n",
    "    for j in range(number_of_learners):\n",
    "        result += theta[j]*stumps[j].predict(X)\n",
    "        \n",
    "    y_predict_aver = [1 if i >= 0.5 * np.sum(theta) else 0 for i in result ]\n",
    "\n",
    "    return y_predict_aver\n",
    "\n",
    "from sklearn.metrics import precision_recall_fscore_support,accuracy_score\n",
    "# print(precision_recall_fscore_support(y_train, stumps[1].predict(X_train),average = 'binary'))\n",
    "# precision_recall_fscore_support(y_train, predict(stumps,theta, 5, X_train),average = 'binary')\n",
    "print(accuracy_score(y_train, predict(stumps,theta, n_learners, X_train)))\n",
    "accuracy_score(y_train, predict(stumps,np.ones(n_learners), n_learners, X_train))\n"
   ]
  },
  {
   "cell_type": "code",
   "execution_count": null,
   "metadata": {},
   "outputs": [],
   "source": []
  }
 ],
 "metadata": {
  "kernelspec": {
   "display_name": "Python 3",
   "language": "python",
   "name": "python3"
  },
  "language_info": {
   "codemirror_mode": {
    "name": "ipython",
    "version": 3
   },
   "file_extension": ".py",
   "mimetype": "text/x-python",
   "name": "python",
   "nbconvert_exporter": "python",
   "pygments_lexer": "ipython3",
   "version": "3.7.4"
  }
 },
 "nbformat": 4,
 "nbformat_minor": 1
}
